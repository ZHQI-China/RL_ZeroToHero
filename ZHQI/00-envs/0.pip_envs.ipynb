{
 "cells": [
  {
   "cell_type": "markdown",
   "id": "8b935047",
   "metadata": {
    "vscode": {
     "languageId": "plaintext"
    }
   },
   "source": [
    "# 官方中文文档：https://gymnasium.org.cn/\n",
    "\n",
    "1. 安装 miniconda, vscode(+python插件、jupyter插件)\n",
    "\n",
    "2. 使用 miniconda 新建环境\n",
    "    - a. 查看现有环境 conda env list\n",
    "    - b. 新建环境 conda create -n xxx\n",
    "        > 可以在后面加上 python=3.12 确定 python 版本\n",
    "    - c. 删除环境 conda remove -n xxx --all\n",
    "\n",
    "3. 安装 gymnasium   \n",
    "    > 没有魔法，可以在后面加上 -i https://repo.huaweicloud.com/repository/pypi/simple/\n",
    "    - pip install gymnasium\n",
    "    - pip install gymnasium[classic-control]\n",
    "    - pip install swig\n",
    "    - pip install gymnasium[box2d]\n",
    "    - pip install gymnasium[mujoco]\n",
    "4. 安装 keyboard\n",
    "    - pip install keyboard"
   ]
  }
 ],
 "metadata": {
  "language_info": {
   "name": "python"
  }
 },
 "nbformat": 4,
 "nbformat_minor": 5
}
