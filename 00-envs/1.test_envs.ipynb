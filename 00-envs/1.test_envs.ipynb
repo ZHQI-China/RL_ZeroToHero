{
 "cells": [
  {
   "cell_type": "code",
   "execution_count": 4,
   "id": "0ff659f2",
   "metadata": {},
   "outputs": [
    {
     "name": "stdout",
     "output_type": "stream",
     "text": [
      "3.12.9 | packaged by Anaconda, Inc. | (main, Feb  6 2025, 18:49:16) [MSC v.1929 64 bit (AMD64)]\n",
      "gymnasium 版本：1.1.1\n"
     ]
    }
   ],
   "source": [
    "import sys\n",
    "print(sys.version)\n",
    "\n",
    "import gymnasium\n",
    "print(f\"gymnasium 版本：{gymnasium.__version__}\")"
   ]
  },
  {
   "cell_type": "code",
   "execution_count": 1,
   "id": "122958c4",
   "metadata": {},
   "outputs": [
    {
     "name": "stdout",
     "output_type": "stream",
     "text": [
      "初始状态: 0，状态空间大小：64，动作空间大小：4\n",
      "Observation: 1, Reward: 0.0, Terminated: False, Truncated: False, Info: {'prob': 1.0}\n",
      "Observation: 2, Reward: 0.0, Terminated: False, Truncated: False, Info: {'prob': 1.0}\n",
      "Observation: 3, Reward: 0.0, Terminated: False, Truncated: False, Info: {'prob': 1.0}\n",
      "Observation: 11, Reward: 0.0, Terminated: False, Truncated: False, Info: {'prob': 1.0}\n",
      "Observation: 12, Reward: 0.0, Terminated: False, Truncated: False, Info: {'prob': 1.0}\n",
      "Observation: 13, Reward: 0.0, Terminated: False, Truncated: False, Info: {'prob': 1.0}\n",
      "Observation: 21, Reward: 0.0, Terminated: False, Truncated: False, Info: {'prob': 1.0}\n",
      "Observation: 29, Reward: 0.0, Terminated: True, Truncated: False, Info: {'prob': 1.0}\n",
      "Environment reset.\n",
      "Observation: 0, Reward: 0.0, Terminated: False, Truncated: False, Info: {'prob': 1.0}\n",
      "Observation: 8, Reward: 0.0, Terminated: False, Truncated: False, Info: {'prob': 1.0}\n",
      "Observation: 16, Reward: 0.0, Terminated: False, Truncated: False, Info: {'prob': 1.0}\n",
      "Observation: 24, Reward: 0.0, Terminated: False, Truncated: False, Info: {'prob': 1.0}\n",
      "Observation: 25, Reward: 0.0, Terminated: False, Truncated: False, Info: {'prob': 1.0}\n",
      "Observation: 26, Reward: 0.0, Terminated: False, Truncated: False, Info: {'prob': 1.0}\n",
      "Observation: 34, Reward: 0.0, Terminated: False, Truncated: False, Info: {'prob': 1.0}\n",
      "Observation: 42, Reward: 0.0, Terminated: True, Truncated: False, Info: {'prob': 1.0}\n",
      "Environment reset.\n",
      "Observation: 8, Reward: 0.0, Terminated: False, Truncated: False, Info: {'prob': 1.0}\n",
      "Observation: 16, Reward: 0.0, Terminated: False, Truncated: False, Info: {'prob': 1.0}\n",
      "Observation: 24, Reward: 0.0, Terminated: False, Truncated: False, Info: {'prob': 1.0}\n",
      "Observation: 32, Reward: 0.0, Terminated: False, Truncated: False, Info: {'prob': 1.0}\n",
      "Observation: 40, Reward: 0.0, Terminated: False, Truncated: False, Info: {'prob': 1.0}\n",
      "Observation: 48, Reward: 0.0, Terminated: False, Truncated: False, Info: {'prob': 1.0}\n",
      "Observation: 56, Reward: 0.0, Terminated: False, Truncated: False, Info: {'prob': 1.0}\n",
      "Observation: 57, Reward: 0.0, Terminated: False, Truncated: False, Info: {'prob': 1.0}\n",
      "Observation: 58, Reward: 0.0, Terminated: False, Truncated: False, Info: {'prob': 1.0}\n",
      "Observation: 50, Reward: 0.0, Terminated: False, Truncated: False, Info: {'prob': 1.0}\n",
      "Observation: 51, Reward: 0.0, Terminated: False, Truncated: False, Info: {'prob': 1.0}\n",
      "Observation: 43, Reward: 0.0, Terminated: False, Truncated: False, Info: {'prob': 1.0}\n",
      "Observation: 44, Reward: 0.0, Terminated: False, Truncated: False, Info: {'prob': 1.0}\n",
      "Observation: 45, Reward: 0.0, Terminated: False, Truncated: False, Info: {'prob': 1.0}\n",
      "Observation: 37, Reward: 0.0, Terminated: False, Truncated: False, Info: {'prob': 1.0}\n",
      "Observation: 38, Reward: 0.0, Terminated: False, Truncated: False, Info: {'prob': 1.0}\n",
      "Observation: 39, Reward: 0.0, Terminated: False, Truncated: False, Info: {'prob': 1.0}\n",
      "Observation: 47, Reward: 0.0, Terminated: False, Truncated: False, Info: {'prob': 1.0}\n",
      "Observation: 55, Reward: 0.0, Terminated: False, Truncated: False, Info: {'prob': 1.0}\n",
      "Observation: 63, Reward: 1.0, Terminated: True, Truncated: False, Info: {'prob': 1.0}\n",
      "Environment reset.\n",
      "Exiting the loop...\n",
      "关闭游戏\n"
     ]
    }
   ],
   "source": [
    "# FrozenLake 官方文档：https://gymnasium.org.cn/environments/toy_text/frozen_lake\n",
    "import gymnasium as gym\n",
    "import keyboard  # 用于监听键盘事件\n",
    "import time      # 用于控制帧率\n",
    "\n",
    "# 创建环境\n",
    "env = gym.make(\"FrozenLake-v1\", map_name=\"8x8\", is_slippery=False, render_mode=\"human\")\n",
    "n_states = env.observation_space.n\n",
    "n_actions = env.action_space.n\n",
    "\n",
    "# 初始化环境\n",
    "observation, info = env.reset(seed=42)\n",
    "print(f\"初始状态: {observation}，状态空间大小：{n_states}，动作空间大小：{n_actions}\")\n",
    "\n",
    "running = True\n",
    "\n",
    "while running:\n",
    "    time.sleep(0.1)\n",
    "     # 检查是否按下 Esc 键\n",
    "    if keyboard.is_pressed('esc'):\n",
    "        print(\"Exiting the loop...\")\n",
    "        running = False\n",
    "        continue\n",
    "    action = -1\n",
    "    if keyboard.is_pressed('a'):\n",
    "        action = 0  # 左\n",
    "    elif keyboard.is_pressed('s'):\n",
    "        action = 1  # 下\n",
    "    elif keyboard.is_pressed('d'):\n",
    "        action = 2  # 右\n",
    "    elif keyboard.is_pressed('w'):\n",
    "        action = 3  # 上\n",
    "    else:\n",
    "        continue  # 无有效按键时不执行动作\n",
    "    observation, reward, terminated, truncated, info = env.step(action)\n",
    "\n",
    "    print(f\"Observation: {observation}, Reward: {reward}, Terminated: {terminated}, Truncated: {truncated}, Info: {info}\")\n",
    "\n",
    "    if terminated or truncated:\n",
    "        observation, info = env.reset()\n",
    "        print(\"Environment reset.\")\n",
    "    time.sleep(0.1)\n",
    "# 关闭环境\n",
    "env.close()\n",
    "print(\"关闭游戏\")"
   ]
  }
 ],
 "metadata": {
  "kernelspec": {
   "display_name": "rl",
   "language": "python",
   "name": "python3"
  },
  "language_info": {
   "codemirror_mode": {
    "name": "ipython",
    "version": 3
   },
   "file_extension": ".py",
   "mimetype": "text/x-python",
   "name": "python",
   "nbconvert_exporter": "python",
   "pygments_lexer": "ipython3",
   "version": "3.12.9"
  }
 },
 "nbformat": 4,
 "nbformat_minor": 5
}
